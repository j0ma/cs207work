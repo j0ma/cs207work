{
 "cells": [
  {
   "cell_type": "markdown",
   "metadata": {},
   "source": [
    "## Basic Algorithms: Fibonacci\n",
    "\n",
    "Another form of recursion is tree recursion. Consider computing a fibonacci sequence, in which each number is the sum of the previous two, with the first two taken to be 0 and 1."
   ]
  },
  {
   "cell_type": "markdown",
   "metadata": {},
   "source": [
    "### Recursive Fibonacci. \n",
    "\n",
    "\n",
    "We write Fibonacci recursively with the first two numbers as base cases.\n",
    "\n",
    "![](https://mitpress.mit.edu/sicp/full-text/book/ch1-Z-G-13.gif)\n",
    "\n",
    "(from SICP)\n",
    "\n",
    "Signature: `def fib_recursive(n)`"
   ]
  },
  {
   "cell_type": "code",
   "execution_count": 84,
   "metadata": {
    "collapsed": false
   },
   "outputs": [
    {
     "name": "stdout",
     "output_type": "stream",
     "text": [
      "0\n",
      "1\n",
      "8\n",
      "144\n",
      "317811\n",
      "2178309\n"
     ]
    }
   ],
   "source": [
    "def fib_recursive(n):\n",
    "    if n == 1:\n",
    "        return 0\n",
    "    if n == 2:\n",
    "        return 1\n",
    "    return fib_recursive(n-1) + fib_recursive(n-2)\n",
    "\n",
    "for i in [1, 2, 7, 13, 29, 33]:\n",
    "    print(fib_recursive(i))"
   ]
  },
  {
   "cell_type": "markdown",
   "metadata": {},
   "source": [
    "### Q1. \n",
    "\n",
    "What are the space and time complexities of this implementation? Hint: think aboutthe number of items in a binary tree and its depth."
   ]
  },
  {
   "cell_type": "markdown",
   "metadata": {},
   "source": [
    "### Time complexity\n",
    "\n",
    "Suppose we are trying to calculate $fib(n)$. Observe that in this case, the maximum depth of the recursion tree is $n$ (this can also be seen on the picture above).\n",
    "\n",
    "The number of nodes at each level $L \\in \\{0,1,2,3, ..., n\\}$ is bounded by $2^L$. Thus, the total number of nodes in the recursion tree is bounded by $\\sum_{j=0}^{n-1}2^j = 2^n - 1 = O(2^n)$.\n",
    "\n",
    "\n",
    "**Answer: $O(2^n)$** [note: this might not be the tightest bound]"
   ]
  },
  {
   "cell_type": "markdown",
   "metadata": {},
   "source": [
    "### Space complexity\n",
    "\n",
    "We are not saving anything during the execution of this algorihtm; the only memory usage stems from the creation of the *stack frames* during the exeuction. As we noted before, the number of levels in the recursive tree is bounded by $n$, which implies that the total number of recursive calls, and thereby the number of frames that are created, is $O(n)$.\n",
    "\n",
    "**Answer: $O(n)$**"
   ]
  },
  {
   "cell_type": "markdown",
   "metadata": {},
   "source": [
    "### Dynamic Programming and Iteration\n",
    "\n",
    "From Skiena\n",
    ">..**dynamic programming**, which typically removes one element from the problem, solves the smaller problem, and then uses the solution to this smaller problem to add back the element in the proper way. **Divide-and-conquer** instead splits the problem in (say) halves, solves each half, then stitches the pieces back together to form a full solution.\n",
    "\n",
    ">Dynamic programming is a technique for efficiently implementing a recursive algorithm by storing partial results. The trick is seeing whether the naive recursive algorithm computes the same subproblems over and over and over again. If so, storing the answer for each subproblems in a table to look up instead of recompute can lead to an efficient algorithm. Start with a recursive algorithm or definition. Only once we have a correct recursive algorithm do we worry about speeding it up by using a results matrix. Dynamic programming is generally the right method for optimization problems on combinatorial objects that have an inherent left to right order among components. Left-to-right objects includes: character strings, rooted trees, polygons, and integer sequences."
   ]
  },
  {
   "cell_type": "markdown",
   "metadata": {},
   "source": [
    "### Q2.\n",
    "\n",
    "Here is an implementation of Fibonacci using dynamic programming: they key is to notice that the recurrence we used can be put into an iterative form and just stored in an ever increasing array. \n",
    "\n",
    "(a) What is the space and time complexity here? \n",
    "\n",
    "(b) What if you were somehow able to save the array outside of the function when you calculate `fib(M)` and subsequently had to calculate `fib(N)`, where $N>M$."
   ]
  },
  {
   "cell_type": "code",
   "execution_count": 58,
   "metadata": {
    "collapsed": true
   },
   "outputs": [],
   "source": [
    "def fib_iterative(n):\n",
    "    \"\"\"\n",
    "    Computes the nth Fibonacci number.\n",
    "    \n",
    "    Parameters\n",
    "    -----------\n",
    "    n: int\n",
    "    \n",
    "    Returns\n",
    "    -------\n",
    "    fibs[n-1]: int\n",
    "        nth fibonacci number\n",
    "        \n",
    "    Notes\n",
    "    -----\n",
    "    1-indexed!\n",
    "    \"\"\"\n",
    "    fibs=[]\n",
    "    fibs.append(0)\n",
    "    fibs.append(1)\n",
    "    for i in range(2, n):\n",
    "        fibs.append(fibs[i-1]+fibs[i-2])\n",
    "    return fibs[n-1]"
   ]
  },
  {
   "cell_type": "code",
   "execution_count": 11,
   "metadata": {
    "collapsed": false
   },
   "outputs": [
    {
     "name": "stdout",
     "output_type": "stream",
     "text": [
      "fibonacci number #1: 0\n",
      "fibonacci number #2: 1\n",
      "fibonacci number #7: 8\n",
      "fibonacci number #13: 144\n",
      "fibonacci number #29: 317811\n",
      "fibonacci number #33: 2178309\n"
     ]
    }
   ],
   "source": [
    "for i in [1, 2, 7,13,29,33]:\n",
    "    print(\"fibonacci number #{}: {}\".format(i, fib_iterative(i)))"
   ]
  },
  {
   "cell_type": "markdown",
   "metadata": {},
   "source": [
    "### (a) Complexity of Iterative Fibonacci"
   ]
  },
  {
   "cell_type": "markdown",
   "metadata": {},
   "source": [
    "### Time complexity\n",
    "Breakdown of operations in `fib_iterative`:\n",
    "- 3 constant-time operations in the beginning\n",
    "- a for-loop that runs (in the worst case) n-2 times\n",
    "    - 2 operations per loop (addition and appending)\n",
    "\n",
    "Thus, we can calculate the total work $T(n)$ for the nth Fibonacci number:\n",
    "$T(n) = 3 + 2(n-2) = 2n - 1 = O(n)$ \n",
    "\n",
    "**Answer: $O(n)$**\n",
    "\n",
    "### Space complexity\n",
    "We have no recursive function calls, so only one stack frame is ever created. However, in the process of iterating, we create an array of size $n$. Thus, the space complexity is $O(n)$.\n",
    "\n",
    "**Answer: $O(n)$**"
   ]
  },
  {
   "cell_type": "markdown",
   "metadata": {},
   "source": [
    "### (b) Complexity with Saved Array\n",
    "\n",
    "*What if you were somehow able to save the array outside of the function when you calculate fib(M) and subsequently had to calculate fib(N), where  $N>M$ ?*\n",
    "\n",
    "### Time complexity\n",
    "\n",
    "The question is a little unclear. \n",
    "\n",
    "If we were able to use a cache (as below in the case of dynamic programming), then we would only have to calculate $fib(M+1), fib(M+2), ..., fib(N-1), fib(N)$. Since we know $N > M$, we can express $M$ as a multiple of $N$, i.e. $M = cN$ for some constant $c$. Then, the additional $N - M$ calculations can be expressed as $N - M = (1-c)N$, which -- since we don't care about constants -- is $O(N)$.\n",
    "\n",
    "However, assuming that we are still using `fib_iterative`, and just saving the array outside, the for-loop would still evaluate everything, and run through all $N-2$ iterations of the for loop. This is because the function body of `fib_iterative` contains no reference to an outside list but instead recreates `fibs` each time. This would also imply a time complexity of $O(N)$.\n",
    "\n",
    "### Space complexity\n",
    "Assuming that we keep populating the same array, first with $M$ elements, and then an additional $N-M$ elements, the total space used would still be dominated by $N$. Thus, our space complexity is $O(N)$.\n",
    "\n",
    "**Answer: $O(N)$**"
   ]
  },
  {
   "cell_type": "markdown",
   "metadata": {},
   "source": [
    "### Recursive Fibonacci with cacheing"
   ]
  },
  {
   "cell_type": "markdown",
   "metadata": {},
   "source": [
    "### Q3. \n",
    "\n",
    "Use `cache` and `call_counter` as decorators on `fib_recursive` and print the fibonacci numbers for 7,13,29, 33. What order should these decorators be called to make sure `call_counter` gets the actual number of calls to `fib_recursive`?\n",
    "\n",
    "We've written the `cache` decorator for you. You have to write the `call_counter` decorator which takes the function as argument and using a `count_dictionary` whose keys are function names, counts the number of times the function is called."
   ]
  },
  {
   "cell_type": "code",
   "execution_count": 98,
   "metadata": {
    "collapsed": true
   },
   "outputs": [],
   "source": [
    "def cache(f):\n",
    "    \"\"\"a single argument function whose values may be cached\"\"\"\n",
    "    cache = {}\n",
    "    def memoized_func(x):\n",
    "        if x not in cache:\n",
    "            cache[x] = f(x)\n",
    "        return cache[x]\n",
    "    memoized_func.__name__ = f.__name__\n",
    "    return memoized_func\n",
    "    "
   ]
  },
  {
   "cell_type": "code",
   "execution_count": 99,
   "metadata": {
    "collapsed": true
   },
   "outputs": [],
   "source": [
    "def call_counter(count_dictionary):\n",
    "    def call_counter_decorator(func):\n",
    "        def inner(*args, **kwargs):\n",
    "            name = func.__name__\n",
    "            count_dictionary[name] += 1\n",
    "            return func(*args, **kwargs)\n",
    "        return inner\n",
    "    return call_counter_decorator"
   ]
  },
  {
   "cell_type": "code",
   "execution_count": 107,
   "metadata": {
    "collapsed": false,
    "scrolled": true
   },
   "outputs": [
    {
     "name": "stdout",
     "output_type": "stream",
     "text": [
      "fib(7) = 8. there were 11 calls\n",
      "fib(13) = 144. there were 24 calls\n",
      "fib(29) = 317811. there were 57 calls\n",
      "fib(33) = 2178309. there were 66 calls\n"
     ]
    }
   ],
   "source": [
    "# import\n",
    "from collections import defaultdict\n",
    "\n",
    "# initialize our defaultdict\n",
    "# with integer keys\n",
    "ccounter = defaultdict(int)\n",
    "\n",
    "@call_counter(ccounter)\n",
    "@cache\n",
    "def fib_recursive(n):\n",
    "    if n == 1:\n",
    "        return 0\n",
    "    if n == 2:\n",
    "        return 1\n",
    "    return fib_recursive(n-1) + fib_recursive(n-2)\n",
    "\n",
    "for i in [7,13,29, 33]:\n",
    "    print('fib({}) = {}. there were {} calls'.format(i, fib_recursive(i), ccounter['fib_recursive']))"
   ]
  },
  {
   "cell_type": "markdown",
   "metadata": {},
   "source": [
    "What order should these decorators be called to make sure `call_counter` gets the actual number of calls to `fib_recursive`?"
   ]
  },
  {
   "cell_type": "markdown",
   "metadata": {},
   "source": [
    "First `@call_counter`, then `@cache`."
   ]
  },
  {
   "cell_type": "code",
   "execution_count": 108,
   "metadata": {
    "collapsed": false
   },
   "outputs": [
    {
     "name": "stdout",
     "output_type": "stream",
     "text": [
      "3! = 6. there were 3 calls\n"
     ]
    }
   ],
   "source": [
    "blahcounter = defaultdict(int)\n",
    "@call_counter(blahcounter)\n",
    "@cache\n",
    "def bleh(x):\n",
    "    \"\"\"computes x!\"\"\"\n",
    "    if x == 1:\n",
    "        return 1\n",
    "    else:\n",
    "        return x*bleh(x-1)\n",
    "    \n",
    "print(\"3! = {}. there were {} calls\".format(bleh(3), blahcounter['bleh']))"
   ]
  },
  {
   "cell_type": "markdown",
   "metadata": {},
   "source": [
    "### Q4.\n",
    "\n",
    "What is the time and space complexity of the the memoized Fibonacci? HINT: assume evaluation happens left to right on sub-expressions, so that `fib_recursive(n-1)` side of the tree is evaluated first, and thus the tree is evaluated depth first, from left to right. What kind of pruning happens in the tree?"
   ]
  },
  {
   "cell_type": "markdown",
   "metadata": {},
   "source": [
    "### Pruning\n",
    "*Note: apologies to the grader for not being able to draw additional recursion trees. Please refer to the one above where we calculate fib(5) to get an idea of what I'm referring to. :)*\n",
    "\n",
    "**Answer:** The pruning that happens is that the nodes on the right-hand side of the recursion tree all disappear. Since we cache as we move back up the recursion tree after recursing to the base cases on the left hand side, we will have all of $fib(1), fib(2), fib(3), ..., fib(n-1)$ by the time we get back to the top. Then, when the right hand node is evaluted [i.e. $fib(3)$ in the figure above], we can simply access its value in constant time. \n",
    "\n",
    "### Time complexity\n",
    "\n",
    "The left half of the tree recurses all the way to the base cases. This involves $O(n)$ function calls. Subsequently, we cache all intermediate solutions as we go back up the tree, and can calculate all remaining leaves of the recursion tree in constant time. \n",
    "\n",
    "**Answer:** The time complexity is $O(n)$.\n",
    "\n",
    "### Space complexity\n",
    "\n",
    "$O(n)$ recursive calls involves the creation of a new stack frame for each call, so the recursive implementation requires at least $O(n)$ space. \n",
    "\n",
    "On top of the stack frames, we also have the cache, which grows to contain at most $n$ key-value pairs. This would imply $2n$ memory usage but since we don't care about constants, we can note that the space complexity is also $O(n)$.\n",
    "\n",
    "**Answer:** The space complexity is also $O(n)$. "
   ]
  },
  {
   "cell_type": "markdown",
   "metadata": {},
   "source": [
    "### Q5.\n",
    "\n",
    "Do you really need to store the entire array in the dynamic programming implementation? Isnt it enough to have only saved the previous two Fibonacci numbers? Implement such an algorithm in `fib_iterative2(n)`. What is its space and time complexity? How is the time complexity different from that of the previous iterative attempt?"
   ]
  },
  {
   "cell_type": "code",
   "execution_count": 85,
   "metadata": {
    "collapsed": false
   },
   "outputs": [],
   "source": [
    "#your code here\n",
    "def fib_iterative2(n):\n",
    "    \"\"\"\n",
    "    Computes the nth Fibonacci number.\n",
    "    \n",
    "    Parameters\n",
    "    -----------\n",
    "    n: int\n",
    "    \n",
    "    Returns\n",
    "    -------\n",
    "    fibs[-1]: int\n",
    "        nth fibonacci number\n",
    "        \n",
    "    Notes\n",
    "    -----\n",
    "    1-indexed!\n",
    "    \"\"\"\n",
    "    fibs=[0, 1] # assignment, O(1)\n",
    "    for i in range(2, n): # for loop, O(n)\n",
    "        new_fib = sum(fibs), # sum 2 elements, O(1)\n",
    "        fibs.pop(0) #pop, O(1)\n",
    "        fibs.append(new_fib) #push, O(1)\n",
    "    return fibs[-1] # access element, O(1)"
   ]
  },
  {
   "cell_type": "code",
   "execution_count": 81,
   "metadata": {
    "collapsed": false
   },
   "outputs": [
    {
     "name": "stdout",
     "output_type": "stream",
     "text": [
      "fib(7) = 8.\n",
      "fib(13) = 144.\n",
      "fib(29) = 317811.\n",
      "fib(33) = 2178309.\n"
     ]
    }
   ],
   "source": [
    "for n in [7,13,29, 33]:\n",
    "    print('fib({}) = {}.'.format(n, fib_recursive(n)))"
   ]
  },
  {
   "cell_type": "markdown",
   "metadata": {},
   "source": [
    "## Complexity\n",
    "\n",
    "### Time complexity\n",
    "The function iterates over the `for-loop` $O(n)$ times, and everything else is a constant time operation. Thus the time complexity is $O(n)$, which is not different from the previous iterative attempt.\n",
    "\n",
    "**Answer:** $O(n)$\n",
    "\n",
    "\n",
    "### Space complexity\n",
    "In this new implementation, the cache has a constant size of 2. Further, our algorithm is iterative, so there are also no additional stack frames being created apart from the original call to `fib_iterative2`. \n",
    "\n",
    "Therefore, the amount of memory we use is not dependent on $n$, which implies $O(1)$ space complexity.\n",
    "\n",
    "**Answer:** $O(1)$."
   ]
  },
  {
   "cell_type": "markdown",
   "metadata": {},
   "source": [
    "### Q6.\n",
    "\n",
    "Write an algorithm for insertion sort.\n",
    "\n",
    "![](https://camo.githubusercontent.com/8f6fedc10da579f13b22b949f6ad29255b6d721f/68747470733a2f2f75706c6f61642e77696b696d656469612e6f72672f77696b6970656469612f636f6d6d6f6e732f302f30662f496e73657274696f6e2d736f72742d6578616d706c652d33303070782e676966)\n",
    "\n",
    "(from wikipedia)\n",
    "\n",
    "The algorithm is also illustrated here: http://cs.armstrong.edu/liang/animation/web/InsertionSort.html and may be described thus:\n",
    "\n",
    "Insertion sort is a method for sorting that starts with a single element (thus forming a trivially sorted list) and then incrementally inserts the remaining elements so that the list stays sorted.\n",
    "\n",
    "Talk about the best, worst and average complexity of insertion sort. Use the A=[5,2,1,3,8,6,9] to show your code!"
   ]
  },
  {
   "cell_type": "code",
   "execution_count": 76,
   "metadata": {
    "collapsed": false
   },
   "outputs": [],
   "source": [
    "# note: inspired by http://bit.ly/2czwAnC\n",
    "def insertion_sort(L):\n",
    "    for i in range(1, len(A)):\n",
    "        j = i\n",
    "        while j > 0 and L[j-1] > L[j]:\n",
    "            L[j-1], L[j] = L[j], L[j-1]\n",
    "            j -= 1\n",
    "    return L"
   ]
  },
  {
   "cell_type": "code",
   "execution_count": 77,
   "metadata": {
    "collapsed": false
   },
   "outputs": [
    {
     "name": "stdout",
     "output_type": "stream",
     "text": [
      "before sorting:\n",
      "[5, 2, 1, 3, 8, 9, 6]\n",
      "after sorting:\n",
      "[1, 2, 3, 5, 6, 8, 9]\n"
     ]
    }
   ],
   "source": [
    "A = [5,2,1,3,8,9,6]\n",
    "print(\"before sorting:\")\n",
    "print(A)\n",
    "insertion_sort(A)\n",
    "print(\"after sorting:\")\n",
    "print(A) # see how it sorts in-place!"
   ]
  },
  {
   "cell_type": "markdown",
   "metadata": {},
   "source": [
    "## Complexity\n",
    "\n",
    "### Space complexity\n",
    "Insertion sort operates 100% in place, and has no recursive calls. Hence, its space complexity is $O(1)$.\n",
    "\n",
    "### Time complexity\n",
    "Note: Let $n := len(A)$\n",
    "\n",
    "**Worst case:** list completely unsorted\n",
    "On the first iteration of the for-loop, the inner loop doesn't execute at all, on the second one, the inner loop executes once, and so on until we get to $i = n - 1$, where the while-loop executes $n-2$ times. Overall, this corresponds to $0 + 1 + 2 + ... + n - 2 = \\frac{n(n+1)}{2} - 2 = O(n^2)$\n",
    "\n",
    "**Best case:** list completely sorted\n",
    "In this case, the inner while loop does not execute at all, so the procedure only executes the outer for loop for values $i = 1, i = 2, ..., i = n-1$. This implies $O(n)$ operations.\n",
    "\n",
    "**Average case:** Also $\\Theta(n^2)$. \n",
    "\n",
    "Let's assume a completely randomly sorted array. The probability that the relative ordering of two elements is wrong (i.e. that they form an inversion) is 0.5. There are $\\frac{n(n-1)}{2}$ pairs of elements, so the expected number of inversions is \n",
    "$$\\sum_{j=1}^{\\frac{n(n-1)}{2}}{0.5} = \\frac{n(n-1)}{4} = \\Theta(n^2)$$\n",
    "\n",
    "Note that in insertion sort, the outer loop always performs $\\Theta(n)$ work, and the inner loop simply reverses all inversions. Thus, the total work is $\\Theta(n + \\frac{n(n-1)}{4}) = \\Theta({n^2})$."
   ]
  },
  {
   "cell_type": "code",
   "execution_count": null,
   "metadata": {
    "collapsed": true
   },
   "outputs": [],
   "source": []
  }
 ],
 "metadata": {
  "anaconda-cloud": {},
  "kernelspec": {
   "display_name": "Python [py35]",
   "language": "python",
   "name": "Python [py35]"
  },
  "language_info": {
   "codemirror_mode": {
    "name": "ipython",
    "version": 3
   },
   "file_extension": ".py",
   "mimetype": "text/x-python",
   "name": "python",
   "nbconvert_exporter": "python",
   "pygments_lexer": "ipython3",
   "version": "3.5.2"
  }
 },
 "nbformat": 4,
 "nbformat_minor": 0
}
