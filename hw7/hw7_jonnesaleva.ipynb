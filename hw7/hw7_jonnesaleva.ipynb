{
 "cells": [
  {
   "cell_type": "markdown",
   "metadata": {},
   "source": [
    "## Q1. Median Maintenance using a Heap\n",
    "\n",
    "\n",
    "### Part 1\n",
    "\n",
    "Implement a \"dominant heap\" class `BinaryHeap`, which can handle both the min heap and the max heap cases, by having the constructor explicitly pass the \"comparison\" operator in. Replace min and del_min by dominant and del_dominant methods. Change the classmethod to also take in the operator."
   ]
  },
  {
   "cell_type": "code",
   "execution_count": 1,
   "metadata": {
    "collapsed": true
   },
   "outputs": [],
   "source": [
    "import operator as op\n",
    "\n",
    "class BinaryHeap:\n",
    "    \"\"\"\n",
    "    Description\n",
    "    -----------\n",
    "    Class that implements a Binary Heap\n",
    "    with a user specified dominance operator\n",
    "    \n",
    "    Parameters\n",
    "    ----------\n",
    "    self: BinaryHeap instance\n",
    "    comparison: \n",
    "        operator for determining dominance.\n",
    "    \"\"\"\n",
    "    def __init__(self, comparison):\n",
    "        \n",
    "        # set defaults as instance attributes\n",
    "        self.storage=[None]\n",
    "        self.upto=0\n",
    "        \n",
    "        # handle comparison operator (<, >) and\n",
    "        # dominance function (min/max)|\n",
    "        try:\n",
    "            self.comp_op = {'min': op.lt, 'max': op.gt}[comparison]\n",
    "            self.dom_func = {'min': min, 'max': max}[comparison]\n",
    "        except:\n",
    "            raise KeyError('`comparison` must be `min` or `max`')\n",
    "        \n",
    "    @classmethod\n",
    "    def heapify_slow(cls, it, comp):\n",
    "        inst = cls(comparison=comp)\n",
    "        for i in it:\n",
    "            inst.insert(i)\n",
    "        return inst\n",
    "            \n",
    "    def insert(self, value):\n",
    "        self.storage.append(value)\n",
    "        self.upto += 1\n",
    "        self.sift_up(self.upto)\n",
    "\n",
    "    def sift_up(self, i):\n",
    "        parent = i // 2\n",
    "        if parent > 0 and self.comp_op(self.storage[i], self.storage[parent]):\n",
    "            self.storage[i], self.storage[parent] = self.storage[parent], self.storage[i]\n",
    "            self.sift_up(parent)\n",
    "     \n",
    "    def _dom_child(self, i):\n",
    "        if 2*i + 1 > self.upto:\n",
    "            return 2*i\n",
    "        else:\n",
    "            l = (self.storage[2*i], self.storage[2*i+1])\n",
    "            return 2*i + l.index(self.dom_func(l))\n",
    "    \n",
    "    def sift_down(self, i):\n",
    "        #dotify(self.storage, \"delimg\"+str(i).zfill(2))\n",
    "        if 2*i <= self.upto:\n",
    "            child = self._dom_child(i)\n",
    "            if self.comp_op(self.storage[child], self.storage[i]):\n",
    "                self.storage[child], self.storage[i] = self.storage[i], self.storage[child]\n",
    "                self.sift_down(child)\n",
    "        \n",
    "    def dominant(self):\n",
    "        return self.storage[1]\n",
    "    \n",
    "    def del_dominant(self):\n",
    "        domval = self.storage[1]\n",
    "        self.storage[1], self.storage[self.upto] = self.storage[self.upto], self.storage[1]\n",
    "        self.storage.pop()\n",
    "        self.upto -= 1\n",
    "        self.sift_down(1)\n",
    "        return domval"
   ]
  },
  {
   "cell_type": "code",
   "execution_count": 2,
   "metadata": {
    "collapsed": true
   },
   "outputs": [],
   "source": [
    "data = [1,8,5,9,23,2,45,6,7,99,-5]"
   ]
  },
  {
   "cell_type": "code",
   "execution_count": 3,
   "metadata": {
    "collapsed": false
   },
   "outputs": [
    {
     "name": "stdout",
     "output_type": "stream",
     "text": [
      "[None, -5, 1, 2, 7, 6, 5, 45, 9, 8, 99, 23]\n"
     ]
    },
    {
     "data": {
      "text/plain": [
       "-5"
      ]
     },
     "execution_count": 3,
     "metadata": {},
     "output_type": "execute_result"
    }
   ],
   "source": [
    "#from operator import gt, lt\n",
    "bh = BinaryHeap.heapify_slow(data, 'min')\n",
    "print(bh.storage)\n",
    "bh.dominant()"
   ]
  },
  {
   "cell_type": "code",
   "execution_count": 4,
   "metadata": {
    "collapsed": false
   },
   "outputs": [
    {
     "name": "stdout",
     "output_type": "stream",
     "text": [
      "[None, 99, 45, 23, 7, 9, 2, 5, 1, 6, 8, -5]\n"
     ]
    },
    {
     "data": {
      "text/plain": [
       "99"
      ]
     },
     "execution_count": 4,
     "metadata": {},
     "output_type": "execute_result"
    }
   ],
   "source": [
    "bh2 = BinaryHeap.heapify_slow(data, 'max')\n",
    "print(bh2.storage)\n",
    "bh2.dominant()"
   ]
  },
  {
   "cell_type": "markdown",
   "metadata": {},
   "source": [
    "### Part 2\n",
    "\n",
    "Median maintenance is a very cool algorithm to find an online median.\n",
    "We create two arrays to test our implementation, using np.median to test our answer..."
   ]
  },
  {
   "cell_type": "code",
   "execution_count": 5,
   "metadata": {
    "collapsed": false
   },
   "outputs": [
    {
     "name": "stdout",
     "output_type": "stream",
     "text": [
      "150 536.5\n",
      "151 540.0\n"
     ]
    }
   ],
   "source": [
    "import random\n",
    "import numpy as np\n",
    "l = [random.randint(1,1000) for _ in range(150)]\n",
    "print(len(l), np.median(l))\n",
    "l2 = l + [random.randint(1,1000)]\n",
    "print(len(l2), np.median(l2))"
   ]
  },
  {
   "cell_type": "markdown",
   "metadata": {},
   "source": [
    "You will implement def online_median(iterator) which is a generator yielding successive values of your online median.\n",
    "\n",
    "The algorithm is as follows:\n",
    "\n",
    "- 2 heaps, a max heap for the lower half of the data, and a min-heap for the upper half\n",
    "- take first 2 values in our data, assign smaller to the max heap, larger value to min-heap\n",
    "- insert subsequent values:\n",
    "    - if new value dominates dominant of min heap, add it to max heap and vice versa\n",
    "- if heaps off balance by 2 or more, fix this by taking dom. elem. from larger heap and inserting to smaller\n",
    "- in order to return, check if min and max heaps balanced in size\n",
    "    - if not, return dominant of larger heap\n",
    "    - if yes, return average of dominants\n",
    "\n",
    "#### Original description\n",
    "We'll use 2 heaps, a max heap for the lower half of the data, and a min-heap for the upper half. We take the first 2 values in our data and assign the smaller value to the max heap, while the larger value goes to the min-heap. Then, as we \"insert\" subsequent values in one of the two heaps, the following holds: if we keep the number of elements in both heaps equal (for the even case) or at-most differing by one, the median is respectively the average of the two dominants or the dominant in the heap with one extra item.\n",
    "\n",
    "What then is our strategy for this balanced insertion? Quite simple really: if a new value is not as dominant as the dominant value, add it to that heap. If it is more dominant, add it to the other. If two items in a row get added to the same heap, the heaps will be out of balance by more than one. In this case, take the dominant element from the larger heap and simply add it to the smaller one."
   ]
  },
  {
   "cell_type": "code",
   "execution_count": 6,
   "metadata": {
    "collapsed": true
   },
   "outputs": [],
   "source": [
    "# your code here\n",
    "def online_median(my_iterable):\n",
    "    \"\"\"\n",
    "    Description\n",
    "    -----------\n",
    "    Calculates an online median of `my_iterable`\n",
    "    using a heap-based approach\n",
    "    \n",
    "    Parameters\n",
    "    ----------\n",
    "    my_iterable: iterable\n",
    "    \n",
    "    Returns\n",
    "    -------\n",
    "    m: float\n",
    "        median value of `my_iterable`\n",
    "    \"\"\"\n",
    "    \n",
    "    # set up heaps\n",
    "    minheap = BinaryHeap('min')\n",
    "    maxheap = BinaryHeap('max')\n",
    "        \n",
    "    # insert first two\n",
    "    first_two = [next(my_iterable) for _ in range(2)]\n",
    "    minheap.insert(max(first_two))\n",
    "    maxheap.insert(min(first_two))\n",
    "    \n",
    "    # insert subsequent values\n",
    "    for val in my_iterable: \n",
    "        \n",
    "        # determine where to insert\n",
    "        if val < minheap.dominant():\n",
    "            maxheap.insert(val)\n",
    "        elif val > maxheap.dominant():\n",
    "            minheap.insert(val)\n",
    "        \n",
    "        # rebalance heaps as needed\n",
    "        len_diff = len(minheap.storage) - len(maxheap.storage)\n",
    "        if len_diff < -1:\n",
    "            minheap.insert(maxheap.del_dominant())\n",
    "        elif len_diff > 1:\n",
    "            maxheap.insert(minheap.del_dominant())\n",
    "        \n",
    "        if len(maxheap.storage) != len(minheap.storage):\n",
    "            m = max([minheap, maxheap], key=lambda x: len(x.storage)).dominant()\n",
    "        else:\n",
    "            m = (minheap.dominant() + maxheap.dominant())/2.0\n",
    "\n",
    "        yield m"
   ]
  },
  {
   "cell_type": "markdown",
   "metadata": {},
   "source": [
    "Do your answers match?\n"
   ]
  },
  {
   "cell_type": "code",
   "execution_count": 7,
   "metadata": {
    "collapsed": false
   },
   "outputs": [
    {
     "name": "stdout",
     "output_type": "stream",
     "text": [
      "536.5\n"
     ]
    },
    {
     "data": {
      "text/plain": [
       "[<matplotlib.lines.Line2D at 0x10cadddd8>]"
      ]
     },
     "execution_count": 7,
     "metadata": {},
     "output_type": "execute_result"
    },
    {
     "data": {
      "image/png": "[encoded data removed]",
      "text/plain": [
       "<matplotlib.figure.Figure at 0x10a601f98>"
      ]
     },
     "metadata": {},
     "output_type": "display_data"
    }
   ],
   "source": [
    "%matplotlib inline\n",
    "import matplotlib.pyplot as plt\n",
    "medians = list(online_median(iter(l)))\n",
    "print(medians[-1])\n",
    "plt.plot(medians)"
   ]
  },
  {
   "cell_type": "code",
   "execution_count": 8,
   "metadata": {
    "collapsed": false
   },
   "outputs": [
    {
     "data": {
      "text/plain": [
       "540"
      ]
     },
     "execution_count": 8,
     "metadata": {},
     "output_type": "execute_result"
    }
   ],
   "source": [
    "list(online_median(iter(l2)))[-1]"
   ]
  },
  {
   "cell_type": "markdown",
   "metadata": {},
   "source": [
    "Lastly, lets repeat the analysis we did last time on the randomly generated data."
   ]
  },
  {
   "cell_type": "code",
   "execution_count": 9,
   "metadata": {
    "collapsed": true
   },
   "outputs": [],
   "source": [
    "from random import normalvariate, random\n",
    "from itertools import count\n",
    "def make_data(m, stop=None):\n",
    "    for _ in count():\n",
    "        if stop and _ > stop:\n",
    "            break\n",
    "        yield 1.0e09 + normalvariate(0, m*random() )"
   ]
  },
  {
   "cell_type": "code",
   "execution_count": 10,
   "metadata": {
    "collapsed": false
   },
   "outputs": [
    {
     "name": "stdout",
     "output_type": "stream",
     "text": [
      "<class 'generator'>\n"
     ]
    },
    {
     "data": {
      "text/plain": [
       "[1000000000.1230078,\n",
       " 1000000000.1367793,\n",
       " 1000000000.1514268,\n",
       " 1000000000.1367793,\n",
       " 1000000000.1230078,\n",
       " 1000000000.1092361,\n",
       " 1000000000.0718001,\n",
       " 1000000000.0343641,\n",
       " 1000000000.0718001,\n",
       " 1000000000.1092361]"
      ]
     },
     "execution_count": 10,
     "metadata": {},
     "output_type": "execute_result"
    }
   ],
   "source": [
    "g = online_median(make_data(5, 100))\n",
    "print(type(g))\n",
    "out = list(g)\n",
    "out[-10:]"
   ]
  },
  {
   "cell_type": "code",
   "execution_count": 11,
   "metadata": {
    "collapsed": false
   },
   "outputs": [
    {
     "data": {
      "text/plain": [
       "[<matplotlib.lines.Line2D at 0x10d0d3dd8>]"
      ]
     },
     "execution_count": 11,
     "metadata": {},
     "output_type": "execute_result"
    },
    {
     "data": {
      "image/png": "[encoded data removed]",
      "text/plain": [
       "<matplotlib.figure.Figure at 0x10caada20>"
      ]
     },
     "metadata": {},
     "output_type": "display_data"
    }
   ],
   "source": [
    "plt.plot(out)"
   ]
  },
  {
   "cell_type": "markdown",
   "metadata": {},
   "source": [
    "## Q2\n",
    "\n",
    "### Simulating a flight check-in counter\n",
    "\n",
    "It is your job to simulate a flight-checkin counter. There are m agents handling n passengers. The passengers arrive in line with in-between time given by an exponential distribution for `INTER_ARRIVAL_TIME`. Each passenger, once he or she gets to a counter, is processed in a time drawn from an exponential distribution with `PROCESSING_TIME`. \n",
    "\n",
    "Clearly, in the usual case of 3-4 agents and 200+ customers on a flight, the customer waits much longer. We have been hired by the airlines customer-relations group to see how many extra agents must we hire to reduce waiting times by how much.\n",
    "\n",
    "We start by representing each customer by a co-routine, which starts with the `inline` event. The state changes to the `atcounter` event, and then `ptime` seconds later, to the `leaves` event. Notice how this customer \"process\" is stopped at the yield, until the customer can be handled."
   ]
  },
  {
   "cell_type": "code",
   "execution_count": 12,
   "metadata": {
    "collapsed": true
   },
   "outputs": [],
   "source": [
    "import collections, random\n",
    "Event = collections.namedtuple('Event', 'time cid action agent')\n",
    "def customer_process(idee, start, ptime):\n",
    "    t, agent = yield Event(start, idee, \"inline\", None)\n",
    "    t, agent = yield Event(t, idee, \"atcounter\", agent)\n",
    "    yield Event(t+ptime, idee, \"leaves\", agent)"
   ]
  },
  {
   "cell_type": "markdown",
   "metadata": {},
   "source": [
    "The following function simply implements the draw from the exponential distribution for a given customer:"
   ]
  },
  {
   "cell_type": "code",
   "execution_count": 13,
   "metadata": {
    "collapsed": true
   },
   "outputs": [],
   "source": [
    "def duration(arr_time, service_time):\n",
    "    return random.expovariate(1./arr_time), random.expovariate(1./service_time)"
   ]
  },
  {
   "cell_type": "markdown",
   "metadata": {},
   "source": [
    "Here is out main simulation class. you will be filling in parts of this class.\n",
    "\n",
    "The constructor sets up the simulation. Three queues are created, one for agents that become free, one priority queue for events so that they can be processed in the order recieved, and a backlog for queue for those customers waiting in line because no agent was available.\n",
    "\n",
    "We set up all the customers in the constructor, with two dictionaries, one to hold the co-routines, and one to hold time metadata which we shall use to figure the average waiting time.\n",
    "\n",
    "The `run` method is where all the action happens and is the one you will edit."
   ]
  },
  {
   "cell_type": "code",
   "execution_count": 14,
   "metadata": {
    "collapsed": false
   },
   "outputs": [],
   "source": [
    "import queue\n",
    "import logging\n",
    "logger = logging.getLogger()\n",
    "logger.addHandler(logging.StreamHandler())\n",
    "class Simulator:\n",
    "    \"\"\"\n",
    "    Description\n",
    "    -----------\n",
    "    Simulates the flight check-in process\n",
    "    \n",
    "    Parameters\n",
    "    ----------\n",
    "    n_agents: int\n",
    "        no. of agents / check-in counters\n",
    "    n_customers: int\n",
    "        no. of customers\n",
    "    INTER_ARRIVAL_TIME: float\n",
    "        average inter-arrival time (1/lambda for expo distribution)\n",
    "    PROCESSING_TIME: float\n",
    "        average processing time (1/lambda for expo distribution)\n",
    "    DEBUG: bool\n",
    "        flag for controlling logging level\n",
    "        \n",
    "        \n",
    "    Returns\n",
    "    -------\n",
    "    :)\n",
    "    \"\"\"\n",
    "    def __init__(self, n_agents, n_customers, INTER_ARRIVAL_TIME =1., PROCESSING_TIME=3., DEBUG=False ): \n",
    "        \n",
    "        # Instantiate Queues\n",
    "        self.free_agents = queue.Queue()\n",
    "        self.backlog = queue.Queue()\n",
    "        self.events=queue.PriorityQueue()\n",
    "        \n",
    "        # Save other arguments as instance attributes\n",
    "        self.n_customers = n_customers\n",
    "        self.n_agents = n_agents\n",
    "        self.intertime = INTER_ARRIVAL_TIME\n",
    "        self.proctime = PROCESSING_TIME\n",
    "        \n",
    "        # Create dictionaries to hold the customer process\n",
    "        self.customers={}\n",
    "        self.customer_meta={}\n",
    "        self.logger = logging.getLogger(\"sim\")\n",
    "        \n",
    "        # Control the debugging level\n",
    "        if DEBUG:\n",
    "            self.logger.setLevel(logging.DEBUG)\n",
    "        else:\n",
    "            self.logger.setLevel(logging.WARNING)\n",
    "        \n",
    "        # On the free_agents queue, we store all the agents, \n",
    "        # as well as the times they became free.\n",
    "            \n",
    "        # Obviously, they are all free at t = 0\n",
    "        for i in range(n_agents):\n",
    "            self.free_agents.put((i, 0))\n",
    "        \n",
    "        # We now also track when each customer initially came in.\n",
    "        time_when_came = 0.\n",
    "        for j in range(n_customers):\n",
    "            \n",
    "            # Use `duration` to sample an inter-arrival and processing time\n",
    "            interarrtime, proctime = duration(self.intertime, self.proctime)\n",
    "            time_when_came += interarrtime\n",
    "            \n",
    "            # Represent the arrival metadata as a tuple\n",
    "            intuple = (j, time_when_came, proctime)\n",
    "            \n",
    "            # Feed the arrival into the `customer_process` generator\n",
    "            c = customer_process(*intuple)\n",
    "            \n",
    "            # Log the arrival time of the customer\n",
    "            self.logger.debug(\"Customer {}, arrived {}, will take {} at counter\".format(*intuple))\n",
    "            \n",
    "            # Add each customer's process to dictionaries\n",
    "            self.customers[j] = c\n",
    "            self.customer_meta[j] = {'cid':j, 'start':time_when_came, 'finish':None}\n",
    "        \n",
    "        self.logger.debug(\"========ending init==============\\n\\n\")\n",
    "        \n",
    "        # Update max arrival time \n",
    "        self.max_time_when_came = time_when_came  \n",
    "\n",
    "    def run(self, end_time):\n",
    "        \n",
    "        # We prime each customer co-routine at the start\n",
    "        # and put that event in the events priority queue\n",
    "        \n",
    "        # Since an event is a tuple, the ordering will be by start time\n",
    "        for cid, proc in sorted(self.customers.items()):\n",
    "            first_event = next(proc) # prime\n",
    "            self.events.put(first_event) # customer in line\n",
    "\n",
    "        # Start simulation at time 0\n",
    "        sim_time = 0\n",
    "        while sim_time < end_time:\n",
    "            \n",
    "\n",
    "            # STEP 1: FETCH CURRENT EVENT \n",
    "\n",
    "            # CASE 1: Degenerate case: if no events and no backlog, do nothing\n",
    "            if self.events.empty() and self.backlog.empty(): \n",
    "                self.logger.debug('*** end of events and backlog***') \n",
    "                break\n",
    "            \n",
    "            # CASE 2: we have agents available and a backlog of customers\n",
    "            # We take customer from backlog queue. This is equivalent \n",
    "            # to taking customers from line where they wait.\n",
    "            if not self.backlog.empty() and not self.free_agents.empty():\n",
    "                \n",
    "                # take customer from backlog\n",
    "                current_event = self.backlog.get()\n",
    "                \n",
    "                # The sim time from this branch will be false as we\n",
    "                # get the old time when the person in line showed up\n",
    "            \n",
    "            # CASE 3: Either backlog is empty or there are no free agents\n",
    "            else: \n",
    "\n",
    "                # get current event from `self.events` in all other cases\n",
    "                # This ensures that leave events are processed\n",
    "                # thus freeing up agents\n",
    "\n",
    "                current_event = self.events.get()\n",
    "\n",
    "\n",
    "            # STEP 2: log what actually happens in `current_event` and update\n",
    "\n",
    "            # first bind variables to the current event\n",
    "            sim_time, cid, action, agent = current_event\n",
    "            \n",
    "            # Get the current customer process\n",
    "            cproc = self.customers[cid]\n",
    "                \n",
    "            if action=='leaves':\n",
    "                self.logger.debug(\">>>Customer {} leaves, agent {} free at {}\".format(cid, agent, sim_time))\n",
    "                \n",
    "                # An agent gets free. Put the time they got free\n",
    "                # on the queue, and also update the metadata\n",
    "                \n",
    "                self.free_agents.put((agent, sim_time))\n",
    "                self.customer_meta[cid]['finish']=sim_time\n",
    "                continue # no need to `cproc.send()`\n",
    "\n",
    "            elif action=='atcounter':\n",
    "                self.logger.debug(\"Customer {} atcounter Agent {} at {}\".format(cid, agent, sim_time))\n",
    "                next_time = sim_time\n",
    "                # NB: processing time is already stored in the coroutine under `ptime`\n",
    "\n",
    "            elif action=='inline':#the agent is None to start\n",
    "                self.logger.debug('----------------------------------------------')\n",
    "                self.logger.debug(\"Customer {}, arrived in line @ {}.\".format(cid, sim_time))\n",
    "\n",
    "                if self.free_agents.empty():\n",
    "                    self.logger.debug(\"NO agents available, putting {} inline on backlog at {}\".format(cid, sim_time))\n",
    "                    \n",
    "                    # put customer in backlog\n",
    "                    self.backlog.put(current_event)\n",
    "\n",
    "                    # loop again, skipping `cproc.send()`\n",
    "                    continue\n",
    "\n",
    "                else:\n",
    "                    self.logger.debug(\"{} agents available to serve.\".format(self.free_agents.qsize()))\n",
    "                    \"YOUR CODE HERE\"#handle both situations\n",
    "                    #of getting from backlog or regular. The time in\n",
    "                    #next_time which you will send in message to co-routine\n",
    "                    #below are different\n",
    "\n",
    "                    agent, time = self.free_agents.get()\n",
    "                    next_time = max(sim_time, time)\n",
    "\n",
    "                    self.logger.debug(\"Customer {} inline to be served by Agent {} at {}\".format(cid, agent, next_time))\n",
    "            \n",
    "            #drive the co-routine by sending in time and agent, and getting\n",
    "            #next event out. The event is put into the priority queue.\n",
    "            try:\n",
    "                next_event = cproc.send((next_time, agent)) \n",
    "            except StopIteration:\n",
    "                del self.customers[cid] \n",
    "            else:\n",
    "                self.events.put(next_event)\n",
    "                \n",
    "    def compute_ptimes(self):\n",
    "        ptimes=[]\n",
    "        for j in range(self.n_customers):\n",
    "            #print(j,self.customer_meta[j] )\n",
    "            if self.customer_meta[j]['finish']!=None:\n",
    "                ptimes.append(self.customer_meta[j]['finish'] - self.customer_meta[j]['start'])\n",
    "        return ptimes"
   ]
  },
  {
   "cell_type": "code",
   "execution_count": 15,
   "metadata": {
    "collapsed": true
   },
   "outputs": [],
   "source": [
    "def sim_main(num_agents, num_customers, extratime=20., seed=None, debug=False):\n",
    "    if seed is not None:\n",
    "        random.seed(seed)\n",
    "    sim = Simulator(num_agents, num_customers, DEBUG=debug)\n",
    "    sim.run(sim.max_time_when_came+extratime)\n",
    "    return sim"
   ]
  },
  {
   "cell_type": "markdown",
   "metadata": {},
   "source": [
    "Start small to test this out."
   ]
  },
  {
   "cell_type": "code",
   "execution_count": 16,
   "metadata": {
    "collapsed": false
   },
   "outputs": [
    {
     "name": "stderr",
     "output_type": "stream",
     "text": [
      "Customer 0, arrived 2.510166981376265, will take 0.40056037709946907 at counter\n",
      "Customer 1, arrived 3.1107293623128496, will take 14.113155317058885 at counter\n",
      "Customer 2, arrived 3.5886281541715825, will take 0.48411317406711635 at counter\n",
      "Customer 3, arrived 3.755271910773751, will take 0.49877472999207195 at counter\n",
      "Customer 4, arrived 5.407707445930628, will take 0.9048674773212159 at counter\n",
      "Customer 5, arrived 5.474045708529924, will take 4.70495721768666 at counter\n",
      "========ending init==============\n",
      "\n",
      "\n",
      "----------------------------------------------\n",
      "Customer 0, arrived in line @ 2.510166981376265.\n",
      "2 agents available to serve.\n",
      "Customer 0 inline to be served by Agent 0 at 2.510166981376265\n",
      "Customer 0 atcounter Agent 0 at 2.510166981376265\n",
      ">>>Customer 0 leaves, agent 0 free at 2.910727358475734\n",
      "----------------------------------------------\n",
      "Customer 1, arrived in line @ 3.1107293623128496.\n",
      "2 agents available to serve.\n",
      "Customer 1 inline to be served by Agent 1 at 3.1107293623128496\n",
      "Customer 1 atcounter Agent 1 at 3.1107293623128496\n",
      "----------------------------------------------\n",
      "Customer 2, arrived in line @ 3.5886281541715825.\n",
      "1 agents available to serve.\n",
      "Customer 2 inline to be served by Agent 0 at 3.5886281541715825\n",
      "Customer 2 atcounter Agent 0 at 3.5886281541715825\n",
      "----------------------------------------------\n",
      "Customer 3, arrived in line @ 3.755271910773751.\n",
      "NO agents available, putting 3 inline on backlog at 3.755271910773751\n",
      ">>>Customer 2 leaves, agent 0 free at 4.072741328238699\n",
      "----------------------------------------------\n",
      "Customer 3, arrived in line @ 3.755271910773751.\n",
      "1 agents available to serve.\n",
      "Customer 3 inline to be served by Agent 0 at 4.072741328238699\n",
      "Customer 3 atcounter Agent 0 at 4.072741328238699\n",
      ">>>Customer 3 leaves, agent 0 free at 4.571516058230771\n",
      "----------------------------------------------\n",
      "Customer 4, arrived in line @ 5.407707445930628.\n",
      "1 agents available to serve.\n",
      "Customer 4 inline to be served by Agent 0 at 5.407707445930628\n",
      "Customer 4 atcounter Agent 0 at 5.407707445930628\n",
      "----------------------------------------------\n",
      "Customer 5, arrived in line @ 5.474045708529924.\n",
      "NO agents available, putting 5 inline on backlog at 5.474045708529924\n",
      ">>>Customer 4 leaves, agent 0 free at 6.3125749232518436\n",
      "----------------------------------------------\n",
      "Customer 5, arrived in line @ 5.474045708529924.\n",
      "1 agents available to serve.\n",
      "Customer 5 inline to be served by Agent 0 at 6.3125749232518436\n",
      "Customer 5 atcounter Agent 0 at 6.3125749232518436\n",
      ">>>Customer 5 leaves, agent 0 free at 11.017532140938503\n",
      ">>>Customer 1 leaves, agent 1 free at 17.223884679371736\n",
      "*** end of events and backlog***\n"
     ]
    }
   ],
   "source": [
    "sim=sim_main(2,6, debug=True)"
   ]
  },
  {
   "cell_type": "markdown",
   "metadata": {},
   "source": [
    "Now lets try it with some larger numbers."
   ]
  },
  {
   "cell_type": "code",
   "execution_count": 17,
   "metadata": {
    "collapsed": false
   },
   "outputs": [
    {
     "data": {
      "image/png": "[encoded data removed]",
      "text/plain": [
       "<matplotlib.figure.Figure at 0x10a5e95f8>"
      ]
     },
     "metadata": {},
     "output_type": "display_data"
    }
   ],
   "source": [
    "%matplotlib inline\n",
    "import matplotlib.pyplot as plt\n",
    "sim=sim_main(3,100)\n",
    "plt.hist(sim.compute_ptimes(), bins=20);"
   ]
  },
  {
   "cell_type": "code",
   "execution_count": 18,
   "metadata": {
    "collapsed": false
   },
   "outputs": [
    {
     "data": {
      "image/png": "[encoded data removed]",
      "text/plain": [
       "<matplotlib.figure.Figure at 0x10d0efcc0>"
      ]
     },
     "metadata": {},
     "output_type": "display_data"
    }
   ],
   "source": [
    "sim2=sim_main(4,100)\n",
    "plt.hist(sim2.compute_ptimes(), bins=20);"
   ]
  },
  {
   "cell_type": "markdown",
   "metadata": {},
   "source": [
    "extra time needed below as with 400 passengers a long time is taken to process."
   ]
  },
  {
   "cell_type": "code",
   "execution_count": 19,
   "metadata": {
    "collapsed": false
   },
   "outputs": [
    {
     "data": {
      "image/png": "[encoded data removed]",
      "text/plain": [
       "<matplotlib.figure.Figure at 0x104207f60>"
      ]
     },
     "metadata": {},
     "output_type": "display_data"
    }
   ],
   "source": [
    "sim2=sim_main(2,400, extratime=100)\n",
    "plt.hist(sim2.compute_ptimes(), bins=20);"
   ]
  },
  {
   "cell_type": "markdown",
   "metadata": {},
   "source": [
    "For a proper statistical analysis, you would want to draw this multiple times and look at the distribution of the averages as well. But you should know what this distribution is :-)."
   ]
  }
 ],
 "metadata": {
  "anaconda-cloud": {},
  "kernelspec": {
   "display_name": "Python [py35]",
   "language": "python",
   "name": "Python [py35]"
  },
  "language_info": {
   "codemirror_mode": {
    "name": "ipython",
    "version": 3
   },
   "file_extension": ".py",
   "mimetype": "text/x-python",
   "name": "python",
   "nbconvert_exporter": "python",
   "pygments_lexer": "ipython3",
   "version": "3.5.2"
  }
 },
 "nbformat": 4,
 "nbformat_minor": 0
}
